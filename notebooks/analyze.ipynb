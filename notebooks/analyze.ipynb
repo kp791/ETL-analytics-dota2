{
 "cells": [
  {
   "cell_type": "markdown",
   "metadata": {},
   "source": [
    "# Analyze Phase - Generate Insights"
   ]
  },
  {
   "cell_type": "code",
   "execution_count": null,
   "metadata": {
    "tags": [
     "parameters"
    ]
   },
   "outputs": [],
   "source": [
    "execution_date = '2025-10-31'\n",
    "output_dir = '/opt/airflow/data/insights'"
   ]
  },
  {
   "cell_type": "code",
   "execution_count": null,
   "metadata": {},
   "outputs": [],
   "source": [
    "import sys\n",
    "sys.path.append('/opt/airflow')\n",
    "from src.analyze import load_from_postgres, generate_winrate_insights, save_insights\n",
    "from src.utils import setup_logging\n",
    "\n",
    "logger = setup_logging('analyze', '/opt/airflow/logs')\n",
    "logger.info(f'Analyzing data for {execution_date}')\n",
    "print(f'📊 Generating winrate insights')"
   ]
  },
  {
   "cell_type": "code",
   "execution_count": null,
   "metadata": {},
   "outputs": [],
   "source": [
    "print('Loading data from PostgreSQL...')\n",
    "player_stats, hero_performance = load_from_postgres(execution_date)\n",
    "print(f'✓ Loaded {player_stats.count()} player records from database')"
   ]
  },
  {
   "cell_type": "code",
   "execution_count": null,
   "metadata": {},
   "outputs": [],
   "source": [
    "print('Analyzing winrate correlations...')\n",
    "insights = generate_winrate_insights(player_stats, hero_performance)\n",
    "print('✓ Analysis complete!')"
   ]
  },
  {
   "cell_type": "code",
   "execution_count": null,
   "metadata": {},
   "outputs": [],
   "source": [
    "print('\\n' + '=' * 70)\n",
    "print('DOTA 2 WINRATE ANALYSIS INSIGHTS')\n",
    "print('=' * 70)\n",
    "print(f\"\\n📈 Dataset: {insights['total_matches_analyzed']} matches, {insights['total_player_records']} records\")\n",
    "print(f\"Radiant Win Rate: {insights['overall_radiant_winrate']}%\")\n",
    "print(f\"\\n🎯 Top 5 Winrate Predictors:\")\n",
    "for i, (factor, corr) in enumerate(insights['top_5_winrate_factors'].items(), 1):\n",
    "    print(f\"  {i}. {factor}: {corr}\")\n",
    "print(f\"\\n💡 Key Findings:\")\n",
    "for finding in insights['key_findings']:\n",
    "    print(f\"  • {finding}\")\n",
    "print('=' * 70)"
   ]
  },
  {
   "cell_type": "code",
   "execution_count": null,
   "metadata": {},
   "outputs": [],
   "source": [
    "output_file = save_insights(insights, output_dir, execution_date)\n",
    "logger.info(f'Saved insights')\n",
    "print(f'\\n✓ Insights saved to: {output_file}')"
   ]
  }
 ],
 "metadata": {
  "kernelspec": {
   "display_name": "Python 3 (ipykernel)",
   "language": "python",
   "name": "python3"
  },
  "language_info": {
   "codemirror_mode": {
    "name": "ipython",
    "version": 3
   },
   "file_extension": ".py",
   "mimetype": "text/x-python",
   "name": "python",
   "nbconvert_exporter": "python",
   "pygments_lexer": "ipython3",
   "version": "3.11.14"
  }
 },
 "nbformat": 4,
 "nbformat_minor": 4
}
