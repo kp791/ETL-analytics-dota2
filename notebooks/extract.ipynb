{
 "cells": [
  {
   "cell_type": "markdown",
   "metadata": {},
   "source": [
    "# Extract Phase"
   ]
  },
  {
   "cell_type": "code",
   "execution_count": null,
   "metadata": {
    "tags": [
     "parameters"
    ]
   },
   "outputs": [],
   "source": [
    "execution_date = '2025-10-31'\n",
    "data_dir = '/opt/airflow/data/raw'"
   ]
  },
  {
   "cell_type": "code",
   "execution_count": null,
   "metadata": {},
   "outputs": [],
   "source": [
    "import sys\n",
    "sys.path.append('/opt/airflow')\n",
    "from src.extract import fetch_matches_sql, fetch_hero_stats, save_data\n",
    "from src.utils import setup_logging\n",
    "\n",
    "logger = setup_logging('extract', '/opt/airflow/logs')\n",
    "logger.info(f'Starting extraction for {execution_date}')\n",
    "print(f'📥 Extracting Dota 2 data for {execution_date}')"
   ]
  },
  {
   "cell_type": "code",
   "execution_count": null,
   "metadata": {},
   "outputs": [],
   "source": [
    "logger.info('Fetching matches using SQL query...')\n",
    "print('Fetching matches via SQL (fast)...')\n",
    "matches = fetch_matches_sql(limit=100)  # Can now fetch 100+ matches quickly!\n",
    "logger.info(f'Fetched {len(matches)} matches')\n",
    "print(f'✓ Extracted {len(matches)} matches with player stats in ~5 seconds!')\n"
   ]
  },
  {
   "cell_type": "code",
   "execution_count": null,
   "metadata": {},
   "outputs": [],
   "source": [
    "logger.info('Fetching hero statistics...')\n",
    "hero_stats = fetch_hero_stats()\n",
    "logger.info(f'Fetched stats for {len(hero_stats)} heroes')\n",
    "print(f'✓ Extracted {len(hero_stats)} hero statistics')"
   ]
  },
  {
   "cell_type": "code",
   "execution_count": null,
   "metadata": {},
   "outputs": [],
   "source": [
    "match_file = save_data(matches, data_dir, f'matches_{execution_date}.json')\n",
    "hero_file = save_data(hero_stats, data_dir, f'hero_stats_{execution_date}.json')\n",
    "logger.info(f'Saved data')\n",
    "print(f'✓ Extraction complete!')"
   ]
  }
 ],
 "metadata": {
  "kernelspec": {
   "display_name": "Python 3 (ipykernel)",
   "language": "python",
   "name": "python3"
  },
  "language_info": {
   "codemirror_mode": {
    "name": "ipython",
    "version": 3
   },
   "file_extension": ".py",
   "mimetype": "text/x-python",
   "name": "python",
   "nbconvert_exporter": "python",
   "pygments_lexer": "ipython3",
   "version": "3.11.14"
  }
 },
 "nbformat": 4,
 "nbformat_minor": 4
}
