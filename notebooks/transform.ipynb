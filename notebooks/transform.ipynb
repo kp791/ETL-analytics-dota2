{
 "cells": [
  {
   "cell_type": "markdown",
   "metadata": {},
   "source": [
    "# Transform Phase - PySpark Data Processing"
   ]
  },
  {
   "cell_type": "code",
   "execution_count": null,
   "metadata": {
    "tags": [
     "parameters"
    ]
   },
   "outputs": [],
   "source": [
    "# Parameters (injected by papermill)\n",
    "execution_date = '2025-10-31'\n",
    "input_dir = '/opt/airflow/data/raw'\n",
    "output_dir = '/opt/airflow/data/processed'"
   ]
  },
  {
   "cell_type": "code",
   "execution_count": null,
   "metadata": {},
   "outputs": [],
   "source": [
    "import sys\n",
    "sys.path.append('/opt/airflow')\n",
    "\n",
    "from src.transform import (\n",
    "    get_spark_session, \n",
    "    load_raw_data, \n",
    "    process_player_stats, \n",
    "    aggregate_hero_performance, \n",
    "    save_spark_df\n",
    ")\n",
    "from src.utils import setup_logging\n",
    "from pyspark.sql import functions as F\n",
    "\n",
    "logger = setup_logging('transform', '/opt/airflow/logs')\n",
    "logger.info(f'Starting PySpark transformation for {execution_date}')\n",
    "print(f'⚙️ Starting PySpark transformation for {execution_date}')"
   ]
  },
  {
   "cell_type": "code",
   "execution_count": null,
   "metadata": {},
   "outputs": [],
   "source": [
    "# Initialize Spark and load data\n",
    "print('Initializing Spark session...')\n",
    "matches_df, hero_stats_df, spark = load_raw_data(input_dir, execution_date)\n",
    "logger.info(f'Loaded data into Spark')\n",
    "print(f'✓ Loaded {matches_df.count()} matches into Spark')\n",
    "print(f'✓ Spark UI available at http://localhost:4040')"
   ]
  },
  {
   "cell_type": "code",
   "execution_count": null,
   "metadata": {
    "scrolled": true
   },
   "outputs": [],
   "source": [
    "# Display schema\n",
    "print('\\nMatches Schema:')\n",
    "matches_df.printSchema()\n",
    "print('\\nSample match data:')\n",
    "matches_df.select('match_id', 'radiant_win', 'duration').show(3)"
   ]
  },
  {
   "cell_type": "code",
   "execution_count": null,
   "metadata": {},
   "outputs": [],
   "source": [
    "# Process player-level statistics\n",
    "print('\\nProcessing player-level statistics...')\n",
    "player_stats = process_player_stats(matches_df)\n",
    "logger.info('Processed player-level statistics')\n",
    "print(f'✓ Processed {player_stats.count()} player records')\n",
    "print('\\nSample player stats:')\n",
    "player_stats.select(\n",
    "    'match_id', 'hero_id', 'kills', 'deaths', 'assists', \n",
    "    'kda', 'gpm', 'player_won'\n",
    ").show(5, truncate=False)"
   ]
  },
  {
   "cell_type": "code",
   "execution_count": null,
   "metadata": {},
   "outputs": [],
   "source": [
    "# Aggregate hero performance\n",
    "print('\\nAggregating hero performance metrics...')\n",
    "hero_performance = aggregate_hero_performance(player_stats, hero_stats_df)\n",
    "logger.info('Aggregated hero performance metrics')\n",
    "print(f'✓ Aggregated {hero_performance.count()} hero stats')\n",
    "print('\\nTop 10 heroes by win rate:')\n",
    "hero_performance.orderBy(F.desc('win_rate')).select(\n",
    "    'localized_name', 'games_played', 'win_rate', \n",
    "    'avg_kda', 'avg_gpm'\n",
    ").show(10, truncate=False)"
   ]
  },
  {
   "cell_type": "code",
   "execution_count": null,
   "metadata": {},
   "outputs": [],
   "source": [
    "# Save processed data\n",
    "print('\\nSaving processed data...')\n",
    "player_stats_path = f'{output_dir}/player_stats_{execution_date}.csv'\n",
    "hero_perf_path = f'{output_dir}/hero_performance_{execution_date}.csv'\n",
    "\n",
    "save_spark_df(player_stats, player_stats_path)\n",
    "save_spark_df(hero_performance, hero_perf_path)\n",
    "\n",
    "logger.info('Saved processed data')\n",
    "print(f'✓ Saved player stats to: {player_stats_path}')\n",
    "print(f'✓ Saved hero performance to: {hero_perf_path}')\n",
    "print('\\n✓ PySpark transformation complete!')"
   ]
  }
 ],
 "metadata": {
  "kernelspec": {
   "display_name": "Python 3 (ipykernel)",
   "language": "python",
   "name": "python3"
  },
  "language_info": {
   "codemirror_mode": {
    "name": "ipython",
    "version": 3
   },
   "file_extension": ".py",
   "mimetype": "text/x-python",
   "name": "python",
   "nbconvert_exporter": "python",
   "pygments_lexer": "ipython3",
   "version": "3.11.14"
  }
 },
 "nbformat": 4,
 "nbformat_minor": 4
}
