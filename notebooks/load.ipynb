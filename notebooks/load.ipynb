{
 "cells": [
  {
   "cell_type": "markdown",
   "metadata": {},
   "source": [
    "# Load Phase - MinIO & PostgreSQL"
   ]
  },
  {
   "cell_type": "code",
   "execution_count": null,
   "metadata": {
    "tags": [
     "parameters"
    ]
   },
   "outputs": [],
   "source": [
    "execution_date = '2025-10-31'\n",
    "input_dir = '/opt/airflow/data/processed'"
   ]
  },
  {
   "cell_type": "code",
   "execution_count": null,
   "metadata": {},
   "outputs": [],
   "source": [
    "import sys\n",
    "sys.path.append('/opt/airflow')\n",
    "from src.load import load_to_minio, load_to_postgres\n",
    "from src.transform import get_spark_session\n",
    "from src.utils import setup_logging\n",
    "from pyspark.sql import functions as F\n",
    "\n",
    "logger = setup_logging('load', '/opt/airflow/logs')\n",
    "logger.info(f'Loading data for {execution_date}')\n",
    "print(f'📤 Loading to MinIO and PostgreSQL')"
   ]
  },
  {
   "cell_type": "code",
   "execution_count": null,
   "metadata": {},
   "outputs": [],
   "source": [
    "spark = get_spark_session()\n",
    "player_stats = spark.read.option('header', True).option('inferSchema', True).csv(f'{input_dir}/player_stats_{execution_date}.csv')\n",
    "hero_performance = spark.read.option('header', True).option('inferSchema', True).csv(f'{input_dir}/hero_performance_{execution_date}.csv')\n",
    "print(f'✓ Loaded processed data: {player_stats.count()} player records')"
   ]
  },
  {
   "cell_type": "code",
   "execution_count": null,
   "metadata": {},
   "outputs": [],
   "source": [
    "print('\\nLoading to MinIO (data lake)...')\n",
    "try:\n",
    "    s3_player, s3_hero = load_to_minio(player_stats, hero_performance, execution_date)\n",
    "    print(f'✓ Loaded to MinIO:\\n  - {s3_player}\\n  - {s3_hero}')\n",
    "except Exception as e:\n",
    "    print(f'⚠ MinIO load skipped (optional): {e}')\n",
    "    logger.warning(f'MinIO load failed: {e}')"
   ]
  },
  {
   "cell_type": "code",
   "execution_count": null,
   "metadata": {},
   "outputs": [],
   "source": [
    "print('\\nLoading to PostgreSQL (queryable database)...')\n",
    "load_to_postgres(player_stats, hero_performance, execution_date)\n",
    "print(f'✓ Loaded to PostgreSQL')"
   ]
  },
  {
   "cell_type": "code",
   "execution_count": null,
   "metadata": {},
   "outputs": [],
   "source": [
    "logger.info('Load phase complete')\n",
    "print('\\n✓ Load phase complete! Data in MinIO (archive) and PostgreSQL (queryable)')"
   ]
  }
 ],
 "metadata": {
  "kernelspec": {
   "display_name": "Python 3 (ipykernel)",
   "language": "python",
   "name": "python3"
  },
  "language_info": {
   "codemirror_mode": {
    "name": "ipython",
    "version": 3
   },
   "file_extension": ".py",
   "mimetype": "text/x-python",
   "name": "python",
   "nbconvert_exporter": "python",
   "pygments_lexer": "ipython3",
   "version": "3.11.14"
  }
 },
 "nbformat": 4,
 "nbformat_minor": 4
}
